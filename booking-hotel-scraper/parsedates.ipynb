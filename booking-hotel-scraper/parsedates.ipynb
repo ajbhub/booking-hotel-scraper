{
 "cells": [
  {
   "cell_type": "code",
   "execution_count": 3,
   "metadata": {},
   "outputs": [],
   "source": [
    "import dateutil.parser as dparser\n",
    "import pandas as pd\n",
    "import re\n",
    "from datetime import datetime"
   ]
  },
  {
   "cell_type": "code",
   "execution_count": 17,
   "metadata": {},
   "outputs": [
    {
     "name": "stdout",
     "output_type": "stream",
     "text": [
      "                                        name  price        date\n",
      "0              ['Oceanview Inn at the Arch']    128  2022-05-01\n",
      "1                         ['Inn at the Sea']     94  2022-05-01\n",
      "2                           ['Adrift Hotel']    134  2022-05-01\n",
      "3  ['Chautauqua Resort & Conference Center']    155  2022-05-01\n",
      "4                 ['Coastal Inn and Suites']     89  2022-05-01\n"
     ]
    }
   ],
   "source": [
    "csvdata = pd.read_csv('data.csv')\n",
    "\n",
    "#print(csvdata.head())\n",
    "\n",
    "datecolumn = []\n",
    "for i in csvdata['date']:\n",
    "    match = re.search(r'\\d{4}-\\d{2}-\\d{2}', i)\n",
    "    date = datetime.strptime(match.group(), '%Y-%m-%d').date()\n",
    "    datecolumn.append(date)\n",
    "\n",
    "pricecolumn = []\n",
    "for i in csvdata['price']:\n",
    "    result = int(''.join(list(filter(str.isdigit, i))))\n",
    "    pricecolumn.append(result)\n",
    "\n",
    "csvdata['price'] = pricecolumn\n",
    "csvdata['date'] = datecolumn\n",
    "\n",
    "print(csvdata.head())"
   ]
  },
  {
   "cell_type": "code",
   "execution_count": null,
   "metadata": {},
   "outputs": [],
   "source": []
  }
 ],
 "metadata": {
  "interpreter": {
   "hash": "b7d1f2948ceac33c47cc3118599163110709bfe8fc361e52a29a1b62bc95a3f6"
  },
  "kernelspec": {
   "display_name": "dev",
   "language": "python",
   "name": "dev"
  },
  "language_info": {
   "codemirror_mode": {
    "name": "ipython",
    "version": 3
   },
   "file_extension": ".py",
   "mimetype": "text/x-python",
   "name": "python",
   "nbconvert_exporter": "python",
   "pygments_lexer": "ipython3",
   "version": "3.7.11"
  },
  "orig_nbformat": 4
 },
 "nbformat": 4,
 "nbformat_minor": 2
}
