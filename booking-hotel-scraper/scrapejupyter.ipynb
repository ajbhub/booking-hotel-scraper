{
 "cells": [
  {
   "cell_type": "code",
   "execution_count": null,
   "metadata": {},
   "outputs": [],
   "source": [
    "from selectorlib import Extractor\n",
    "import requests\n",
    "import pandas as pd\n",
    "from time import sleep\n",
    "from datetime import date, timedelta\n",
    "import csv"
   ]
  },
  {
   "cell_type": "code",
   "execution_count": null,
   "metadata": {},
   "outputs": [],
   "source": [
    "e = Extractor.from_yaml_file('booking.yml')"
   ]
  },
  {
   "cell_type": "code",
   "execution_count": null,
   "metadata": {},
   "outputs": [],
   "source": [
    "def scrape(url):    \n",
    "    headers = {\n",
    "        'Connection': 'keep-alive',\n",
    "        'Pragma': 'no-cache',\n",
    "        'Cache-Control': 'no-cache',\n",
    "        'DNT': '1',\n",
    "        'Upgrade-Insecure-Requests': '1',\n",
    "        # You may want to change the user agent if you get blocked\n",
    "        'User-Agent': 'Mozilla/5.0 (Macintosh; Intel Mac OS X 10_15_4) AppleWebKit/537.36 (KHTML, like Gecko) Chrome/81.0.4044.113 Safari/537.36',\n",
    "        'Accept': 'text/html,application/xhtml+xml,application/xml;q=0.9,image/webp,image/apng,*/*;q=0.8,application/signed-exchange;v=b3;q=0.9',\n",
    "\n",
    "        'Referer': 'https://www.booking.com/index.en-gb.html',\n",
    "        'Accept-Language': 'en-GB,en-US;q=0.9,en;q=0.8',\n",
    "    }\n",
    "    \n",
    "    #print(\"Downloading %s\"%url)\n",
    "    r = requests.get(url, headers=headers)\n",
    "    # Pass the HTML of the page and create \n",
    "    return e.extract(r.text,base_url=url)"
   ]
  },
  {
   "cell_type": "code",
   "execution_count": null,
   "metadata": {},
   "outputs": [],
   "source": [
    "def date_range_list(start_date, end_date):\n",
    "    # Return list of datetime.date objects between start_date and end_date (inclusive).\n",
    "    date_list = []\n",
    "    curr_date = start_date\n",
    "    while curr_date <= end_date:\n",
    "        date_list.append(curr_date)\n",
    "        curr_date += timedelta(days=1)\n",
    "    return date_list"
   ]
  },
  {
   "cell_type": "code",
   "execution_count": null,
   "metadata": {},
   "outputs": [],
   "source": [
    "def urlgenerator(value, nextvalue):\n",
    "        inday = value.day\n",
    "        #print(inday)\n",
    "        outday = nextvalue.day\n",
    "        #print(outday)\n",
    "        inmonth = value.month\n",
    "        #print(inmonth)\n",
    "        outmonth = nextvalue.month\n",
    "        #print(outmonth)\n",
    "        inyear = value.year\n",
    "        #print(inyear)\n",
    "        outyear = nextvalue.year\n",
    "        #print(outyear)\n",
    "        url = f'https://www.booking.com/searchresults.en-gb.html?aid=304142&label=gen173nr-1DCAEoggI46AdIM1gEaLQCiAEBmAExuAEXyAEM2AED6AEB-AECiAIBqAIDuALtoZuTBsACAdICJDRkOTZlZDIwLTllNjctNGMwMy05ZDgzLTVhYWUwMzQ3Y2Q4MtgCBOACAQ&lang=en-gb&sid=cd03c465f176fa078b5b60a6c6c7a705&sb=1&src=searchresults&src_elem=sb&error_url=https%3A%2F%2Fwww.booking.com%2Fsearchresults.en-gb.html%3Faid%3D304142%3Blabel%3Dgen173nr-1DCAEoggI46AdIM1gEaLQCiAEBmAExuAEXyAEM2AED6AEB-AECiAIBqAIDuALtoZuTBsACAdICJDRkOTZlZDIwLTllNjctNGMwMy05ZDgzLTVhYWUwMzQ3Y2Q4MtgCBOACAQ%3Bsid%3Dcd03c465f176fa078b5b60a6c6c7a705%3Btmpl%3Dsearchresults%3Bcheckin_month%3D5%3Bcheckin_monthday%3D1%3Bcheckin_year%3D2022%3Bcheckout_month%3D5%3Bcheckout_monthday%3D2%3Bcheckout_year%3D2022%3Bclass_interval%3D1%3Bdest_id%3D20144161%3Bdest_type%3Dcity%3Bdtdisc%3D0%3Bfrom_sf%3D1%3Bgroup_adults%3D2%3Bgroup_children%3D0%3Binac%3D0%3Bindex_postcard%3D0%3Blabel_click%3Dundef%3Bnflt%3Dclass%253D2%253Bclass%253D1%253Bclass%253D3%253Bdistance%253D3220%3Bno_rooms%3D1%3Boffset%3D0%3Bpostcard%3D0%3Braw_dest_type%3Dcity%3Broom1%3DA%252CA%3Bsb_price_type%3Dtotal%3Bshw_aparth%3D1%3Bslp_r_match%3D0%3Bsrc%3Dindex%3Bsrpvid%3Dd1a0a62eed510128%3Bss%3DLong%2520Beach%3Bss_all%3D0%3Bssb%3Dempty%3Bsshis%3D0%3Bssne%3DLong%2520Beach%3Bssne_untouched%3DLong%2520Beach%26%3B&ss=Long+Beach&is_ski_area=0&ssne=Long+Beach&ssne_untouched=Long+Beach&city=20144161&checkin_year={inyear}&checkin_month={inmonth}&checkin_monthday={inday}&checkout_year={outyear}&checkout_month={outmonth}&checkout_monthday={outday}&group_adults=2&group_children=0&no_rooms=1&from_sf=1'\n",
    "        return url"
   ]
  },
  {
   "cell_type": "code",
   "execution_count": null,
   "metadata": {},
   "outputs": [],
   "source": [
    "\n",
    "\n",
    "'''\n",
    "start_date = date(year=2022, month=4, day=27)\n",
    "stop_date = date(year=2022, month=4, day=30)\n",
    "date_list = date_range_list(start_date, stop_date)\n",
    "\n",
    "date_list = pd.DataFrame(date_list)\n",
    "date_list[0] = pd.to_datetime(date_list[0])\n",
    "\n",
    "#urllist = pd.DataFrame(columns=[\"url\", \"date\"])\n",
    "urllist = []\n",
    "\n",
    "for i in range((len(date_list))-1):\n",
    "    value = date_list.iloc[i][0]\n",
    "    nextvalue = date_list.iloc[i+1][0]\n",
    "    url = urlgenerator(value, nextvalue)\n",
    "    urllist.append({\"url\":url, \"date\":value})\n",
    "\n",
    "urllist= pd.DataFrame(urllist)    \n",
    "\n",
    "print(urllist)\n",
    "\n",
    "with open('data.csv','w') as outfile:\n",
    "    fieldnames = [\n",
    "        \"name\",\n",
    "        \"price\",\n",
    "        #\"date\"\n",
    "    ]\n",
    "    writer = csv.DictWriter(outfile, fieldnames=fieldnames)\n",
    "    writer.writeheader()\n",
    "    for url in urllist['url']:\n",
    "        data = scrape(url)\n",
    "        if data:\n",
    "            print(data)\n",
    "            for h in data['box']:\n",
    "                writer.writerow(h)\n",
    "    #sleep(5)\n",
    "'''\n"
   ]
  },
  {
   "cell_type": "code",
   "execution_count": 24,
   "metadata": {},
   "outputs": [],
   "source": [
    "\n",
    "start_date = date(year=2022, month=5, day=1)\n",
    "stop_date = date(year=2022, month=5, day=31)\n",
    "date_list = date_range_list(start_date, stop_date)\n",
    "\n",
    "date_list = pd.DataFrame(date_list)\n",
    "date_list[0] = pd.to_datetime(date_list[0])\n",
    "\n",
    "#urllist = pd.DataFrame(columns=[\"url\", \"date\"])\n",
    "urllist = []\n",
    "\n",
    "for i in range((len(date_list))-1):\n",
    "    value = date_list.iloc[i][0]\n",
    "    nextvalue = date_list.iloc[i+1][0]\n",
    "    url = urlgenerator(value, nextvalue)\n",
    "    urllist.append({\"url\":url, \"date\":value})\n",
    "\n",
    "urllist= pd.DataFrame(urllist)    \n",
    "\n",
    "\n",
    "with open('data.csv','w') as outfile:\n",
    "    fieldnames = [\n",
    "        \"name\",\n",
    "        \"price\",\n",
    "        \"date\"\n",
    "    ]\n",
    "    writer = csv.DictWriter(outfile, fieldnames=fieldnames)\n",
    "    writer.writeheader()\n",
    "    for url in urllist['url']:\n",
    "        data = scrape(url)\n",
    "        if data:\n",
    "            for h in data['box']:\n",
    "                index = urllist[urllist['url'] == url].index.values\n",
    "                h['date'] = urllist.iloc[index]['date']\n",
    "                writer.writerow(h)\n",
    "    #sleep(5)\n"
   ]
  }
 ],
 "metadata": {
  "interpreter": {
   "hash": "b7d1f2948ceac33c47cc3118599163110709bfe8fc361e52a29a1b62bc95a3f6"
  },
  "kernelspec": {
   "display_name": "Python 3.7.11 ('dev')",
   "language": "python",
   "name": "python3"
  },
  "language_info": {
   "codemirror_mode": {
    "name": "ipython",
    "version": 3
   },
   "file_extension": ".py",
   "mimetype": "text/x-python",
   "name": "python",
   "nbconvert_exporter": "python",
   "pygments_lexer": "ipython3",
   "version": "3.7.11"
  },
  "orig_nbformat": 4
 },
 "nbformat": 4,
 "nbformat_minor": 2
}
